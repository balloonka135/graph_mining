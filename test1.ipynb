{
 "cells": [
  {
   "cell_type": "code",
   "execution_count": 12,
   "metadata": {},
   "outputs": [],
   "source": [
    "import pandas as pd\n",
    "from collections import defaultdict\n",
    "import networkx as nx\n",
    "import linkpred\n",
    "from sklearn import neighbors, datasets, preprocessing\n",
    "from sklearn.model_selection import train_test_split\n",
    "from sklearn.metrics import accuracy_score, precision_score, recall_score, confusion_matrix, classification_report, roc_auc_score\n",
    "from sklearn.svm import SVC\n",
    "from sklearn.ensemble import RandomForestClassifier\n",
    "from sklearn.linear_model import LogisticRegression\n",
    "from sklearn.tree import DecisionTreeClassifier\n",
    "from sklearn.decomposition import PCA\n",
    "\n",
    "\n",
    "df = pd.read_csv('imdb.csv')\n",
    "\n",
    "data_sample1 = defaultdict(list)\n",
    "data_sample2 = defaultdict(list)  # data sample for 2016 movies \n",
    "\n",
    "for index, row in df.iterrows():\n",
    "    actors = row['Actors'].split(',')\n",
    "    year = row['Year']\n",
    "    for actor in actors:\n",
    "        if year < 2016:\n",
    "            data_sample1[actor].append(row['Title'])\n",
    "        else:\n",
    "            data_sample2[actor].append(row['Title'])\n",
    "            \n",
    "            \n",
    "G_coeffs = nx.Graph(name=\"Graph for coefficients\")\n",
    "G_y = nx.Graph(name=\"Graph for Y\")\n",
    "\n",
    "# generating coefficients graph\n",
    "for actor in data_sample1:\n",
    "    movies = data_sample1[actor]\n",
    "    actor = actor.strip()\n",
    "    G_coeffs.add_node(actor, actor_attributes=movies)\n",
    "\n",
    "    for node, attrs in G_coeffs.nodes(data=True):\n",
    "        if node != actor:\n",
    "            for a in attrs['actor_attributes']:\n",
    "                if a in movies and not G_coeffs.has_edge(actor, node):\n",
    "                    G_coeffs.add_edge(actor, node, film=a)\n",
    "                \n",
    "# generate Y graph\n",
    "for actor in data_sample2:\n",
    "    movies = data_sample2[actor]\n",
    "    actor = actor.strip()\n",
    "    G_y.add_node(actor, actor_attributes=movies)\n",
    "\n",
    "    for node, attrs in G_y.nodes(data=True):\n",
    "        if node != actor:\n",
    "            for a in attrs['actor_attributes']:\n",
    "                if a in movies and not G_y.has_edge(actor, node):\n",
    "                    G_y.add_edge(actor, node, film=a)"
   ]
  },
  {
   "cell_type": "code",
   "execution_count": null,
   "metadata": {},
   "outputs": [],
   "source": [
    "# whole dataset 710758 rows in train data and 304609 rows in test data, all features\n",
    "indexes = []\n",
    "degree_src = []  # degree centrality\n",
    "degree_dst = []\n",
    "clos_src = []  # closenness centrality\n",
    "clos_dst = []\n",
    "betw_src = []  # betweenness centrality\n",
    "betw_dst = []\n",
    "\n",
    "d = nx.betweenness_centrality(G_coeffs, normalized=True)\n",
    "\n",
    "for u, v, p in nx.jaccard_coefficient(G_coeffs):\n",
    "    indexes.append(tuple((u, v)))\n",
    "    degree_src.append(nx.degree(G_coeffs, u))\n",
    "    degree_dst.append(nx.degree(G_coeffs, v))\n",
    "    clos_src.append(nx.closeness_centrality(G_coeffs, u))\n",
    "    clos_dst.append(nx.closeness_centrality(G_coeffs, v))\n",
    "    betw_src.append(d[u])\n",
    "    betw_dst.append(d[v])\n",
    "                    \n",
    "edge_df = pd.DataFrame(index=indexes)\n",
    "edge_df['Jaccard'] = [i[2] for i in nx.jaccard_coefficient(G_coeffs, edge_df.index)]\n",
    "edge_df['Adamic-Adar'] = [i[2] for i in nx.adamic_adar_index(G_coeffs, edge_df.index)]\n",
    "edge_df['Pref-Attach'] = [i[2] for i in nx.preferential_attachment(G_coeffs, edge_df.index)]\n",
    "edge_df['Res-Alloc'] = [i[2] for i in nx.resource_allocation_index(G_coeffs, edge_df.index)]\n",
    "edge_df['Degree_centrality'] = [min(i, j) for i, j in zip(degree_src, degree_dst)]\n",
    "edge_df['Closeness_centrality'] = [min(i, j) for i, j in zip(clos_src, clos_dst)]\n",
    "edge_df['Betweenness_ centrality'] = [min(i, j) for i, j in zip(betw_src, betw_dst)]\n",
    "edge_df['Y'] = [1 if G_y.has_edge(u, v) else 0 for u, v in indexes]\n",
    "\n",
    "# X = edge_df.drop('Y', 1)\n",
    "# y = edge_df[['Y']]\n",
    "# X_train, X_test, y_train, y_test = train_test_split(X, y, test_size=0.3) \n",
    "\n",
    "train, test = train_test_split(edge_df, test_size=0.3) \n",
    "\n",
    "features = ['Jaccard', 'Adamic-Adar', 'Pref-Attach', 'Res-Alloc', 'Degree_centrality', 'Closeness_centrality', 'Betweenness_ centrality']\n",
    "\n",
    "X_train = train.loc[:, features].values\n",
    "y_train = train.loc[:,['Y']].values\n",
    "X_test = test.loc[:, features].values\n",
    "y_test = test.loc[:,['Y']].values\n",
    "scaler = preprocessing.StandardScaler().fit(X_train)  # standartize data\n",
    "X_train = scaler.transform(X_train)\n",
    "X_test = scaler.transform(X_test)\n",
    "y_train = y_train.values.ravel() # transform to numpy array\n",
    "y_test = y_test.values.ravel()"
   ]
  },
  {
   "cell_type": "code",
   "execution_count": null,
   "metadata": {},
   "outputs": [],
   "source": [
    "# knn for the whole dataset\n",
    "knn = neighbors.KNeighborsClassifier(n_neighbors=5)\n",
    "knn.fit(X_train, y_train)\n",
    "y_pred_knn_all = knn.predict(X_test)\n",
    "y_pred_proba_knn_all = knn.predict_proba(X_test)  # compute probabilities\n",
    "accuracy_knn_all = accuracy_score(y_test, y_pred_knn_all)  # accuracy\n",
    "recall_knn_all = recall_score(y_test, y_pred_knn_all)  # recall\n",
    "prec_knn_all = precision_score(y_test, y_pred_knn_all)  # precision\n",
    "cm_knn_all = confusion_matrix(y_test, y_pred_knn_all)  # confusion matrix\n",
    "auc_knn_all = roc_auc_score(y_test, y_pred_proba_knn_all)  # AUC "
   ]
  },
  {
   "cell_type": "code",
   "execution_count": null,
   "metadata": {},
   "outputs": [],
   "source": [
    "# svm for the whole dataset\n",
    "svc = SVC(kernel='linear')\n",
    "svc.fit(X_train, y_train)\n",
    "y_pred_svm_all = svc.predict(X_test)\n",
    "accuracy_svm_all = accuracy_score(y_test, y_pred_svm_all)\n",
    "recall_svm_all = recall_score(y_test, y_pred_svm_all)\n",
    "prec_svm_all = precision_score(y_test, y_pred_svm_all)\n",
    "cm_svm_all = confusion_matrix(y_test, y_pred_svm_all)"
   ]
  },
  {
   "cell_type": "code",
   "execution_count": null,
   "metadata": {},
   "outputs": [],
   "source": [
    "# random forest for the whole dataset\n",
    "rf = RandomForestClassifier(max_depth=2, random_state=0)\n",
    "rf.fit(X_train, y_train)\n",
    "y_pred_rf_all = rf.predict(X_test)\n",
    "y_pred_proba_rf_all = rf.predict_proba(X_test)  # compute probabilities\n",
    "accuracy_rf_all = accuracy_score(y_test, y_pred_rf_all)\n",
    "recall_rf_all = recall_score(y_test, y_pred_rf_all)\n",
    "prec_rf_all = precision_score(y_test, y_pred_rf_all)\n",
    "cm_rf_all = confusion_matrix(y_test, y_pred_rf_all)\n",
    "auc_rf_all = roc_auc_score(y_test, y_pred_proba_rf_all)  # AUC "
   ]
  },
  {
   "cell_type": "code",
   "execution_count": null,
   "metadata": {},
   "outputs": [],
   "source": [
    "# logistic regr for the whole dataset\n",
    "lr = LogisticRegression()\n",
    "lr.fit(X_train, y_train)\n",
    "y_pred_lr_all = lr.predict(X_test)\n",
    "y_pred_proba_lr_all = lr.predict_proba(X_test)  # compute probabilities\n",
    "accuracy_lr_all = accuracy_score(y_test, y_pred_lr_all)\n",
    "recall_lr_all = recall_score(y_test, y_pred_lr_all)\n",
    "prec_lr_all = precision_score(y_test, y_pred_lr_all)\n",
    "cm_lr_all = confusion_matrix(y_test, y_pred_lr_all)\n",
    "auc_lr_all = roc_auc_score(y_test, y_pred_proba_lr_all)  # AUC "
   ]
  },
  {
   "cell_type": "code",
   "execution_count": null,
   "metadata": {},
   "outputs": [],
   "source": [
    "# decision trees for the whole dataset\n",
    "dt = DecisionTreeClassifier()\n",
    "dt.fit(X_train, y_train)\n",
    "y_pred_dt_all = dt.predict(X_test)\n",
    "y_pred_proba_dt_all = dt.predict_proba(X_test)  # compute probabilities\n",
    "accuracy_dt_all = accuracy_score(y_test, y_pred_dt_all)\n",
    "recall_dt_all = recall_score(y_test, y_pred_dt_all)\n",
    "prec_dt_all = precision_score(y_test, y_pred_dt_all)\n",
    "cm_dt_all = confusion_matrix(y_test, y_pred_dt_all)\n",
    "auc_dt_all = roc_auc_score(y_test, y_pred_proba_dt_all)  # AUC "
   ]
  },
  {
   "cell_type": "code",
   "execution_count": null,
   "metadata": {},
   "outputs": [],
   "source": [
    "# --------------------------------------------------------------"
   ]
  },
  {
   "cell_type": "code",
   "execution_count": null,
   "metadata": {},
   "outputs": [],
   "source": [
    "# sample: 500 from the whole train dataset, all features\n",
    "data_class_0 = train[train['Y'] == 0][:500]  # slice only 500 rows \n",
    "data_class_1 = train[train['Y'] == 1]\n",
    "df_500 = data_class_0.append(data_class_1)  # reduced train set with 500 '0' rows and all '1' rows\n",
    "X_train = df_500.loc[:, features].values\n",
    "y_train = df_500.loc[:,['Y']].values\n",
    "X_test = test.loc[:, features].values\n",
    "y_test = test.loc[:,['Y']].values\n",
    "\n",
    "scaler = preprocessing.StandardScaler().fit(X_train)\n",
    "X_train = scaler.transform(X_train)\n",
    "X_test = scaler.transform(X_test)\n",
    "y_train = y_train.values.ravel()\n",
    "y_test = y_test.values.ravel()"
   ]
  },
  {
   "cell_type": "code",
   "execution_count": null,
   "metadata": {},
   "outputs": [],
   "source": [
    "# knn for the 500 dataset\n",
    "knn = neighbors.KNeighborsClassifier(n_neighbors=5)\n",
    "knn.fit(X_train, y_train)\n",
    "y_pred_knn_500 = knn.predict(X_test)\n",
    "y_pred_proba_knn_500 = knn.predict_proba(X_test)  # compute probabilities\n",
    "accuracy_knn_500 = accuracy_score(y_test, y_pred_knn_500)\n",
    "recall_knn_500 = recall_score(y_test, y_pred_knn_500)\n",
    "prec_knn_500 = precision_score(y_test, y_pred_knn_500)\n",
    "cm_knn_500 = confusion_matrix(y_test, y_pred_knn_500)\n",
    "auc_knn_500 = roc_auc_score(y_test, y_pred_proba_knn_500)  # AUC "
   ]
  },
  {
   "cell_type": "code",
   "execution_count": null,
   "metadata": {},
   "outputs": [],
   "source": [
    "# svm for the 500 dataset\n",
    "svc = SVC(kernel='linear')\n",
    "svc.fit(X_train, y_train)\n",
    "y_pred_svm_500 = svc.predict(X_test)\n",
    "accuracy_svm_500 = accuracy_score(y_test, y_pred_svm_500)\n",
    "recall_svm_500 = recall_score(y_test, y_pred_svm_500)\n",
    "prec_svm_500 = precision_score(y_test, y_pred_svm_500)\n",
    "cm_svm_500 = confusion_matrix(y_test, y_pred_svm_500)"
   ]
  },
  {
   "cell_type": "code",
   "execution_count": null,
   "metadata": {},
   "outputs": [],
   "source": [
    "# random forest for the 500 dataset\n",
    "rf = RandomForestClassifier(max_depth=2, random_state=0)\n",
    "rf.fit(X_train, y_train)\n",
    "y_pred_rf_500 = rf.predict(X_test)\n",
    "y_pred_proba_rf_500 = rf.predict_proba(X_test)  # compute probabilities\n",
    "accuracy_rf_500 = accuracy_score(y_test, y_pred_rf_500)\n",
    "recall_rf_500 = recall_score(y_test, y_pred_rf_500)\n",
    "prec_rf_500 = precision_score(y_test, y_pred_rf_500)\n",
    "cm_rf_500 = confusion_matrix(y_test, y_pred_rf_500)\n",
    "auc_rf_500 = roc_auc_score(y_test, y_pred_proba_rf_500)  # AUC "
   ]
  },
  {
   "cell_type": "code",
   "execution_count": null,
   "metadata": {},
   "outputs": [],
   "source": [
    "# logistic regr for the 500 dataset\n",
    "lr = LogisticRegression()\n",
    "lr.fit(X_train, y_train)\n",
    "y_pred_lr_500 = lr.predict(X_test)\n",
    "y_pred_proba_lr_500 = lr.predict_proba(X_test)  # compute probabilities\n",
    "accuracy_lr_500 = accuracy_score(y_test, y_pred_lr_500)\n",
    "recall_lr_500 = recall_score(y_test, y_pred_lr_500)\n",
    "prec_lr_500 = precision_score(y_test, y_pred_lr_500)\n",
    "cm_lr_500 = confusion_matrix(y_test, y_pred_lr_500)\n",
    "auc_lr_500 = roc_auc_score(y_test, y_pred_proba_lr_500)  # AUC "
   ]
  },
  {
   "cell_type": "code",
   "execution_count": null,
   "metadata": {},
   "outputs": [],
   "source": [
    "# decision trees for the 500 dataset\n",
    "dt = DecisionTreeClassifier()\n",
    "dt.fit(X_train, y_train)\n",
    "y_pred_dt_500 = dt.predict(X_test)\n",
    "y_pred_proba_dt_500 = dt.predict_proba(X_test)  # compute probabilities\n",
    "accuracy_dt_500 = accuracy_score(y_test, y_pred_dt_500)\n",
    "recall_dt_500 = recall_score(y_test, y_pred_dt_500)\n",
    "prec_dt_500 = precision_score(y_test, y_pred_dt_500)\n",
    "cm_dt_500 = confusion_matrix(y_test, y_pred_dt_500)\n",
    "auc_dt_500 = roc_auc_score(y_test, y_pred_proba_dt_500)  # AUC "
   ]
  },
  {
   "cell_type": "code",
   "execution_count": null,
   "metadata": {},
   "outputs": [],
   "source": [
    "# ~~~~~~~~~~~~~~~~~~~~~~~~~~~~~~~~~~~~~~~~~~~~~~~~~~~~~~~~~~~"
   ]
  },
  {
   "cell_type": "code",
   "execution_count": null,
   "metadata": {},
   "outputs": [],
   "source": [
    "# sample: 500 from the whole train dataset, n = 6 features\n",
    "data_class_0 = train[train['Y'] == 0][:500]  \n",
    "data_class_1 = train[train['Y'] == 1]\n",
    "df_500 = data_class_0.append(data_class_1)\n",
    "X_train = df_500.loc[:, features].values\n",
    "y_train = df_500.loc[:,['Y']].values\n",
    "X_test = test.loc[:, features].values\n",
    "y_test = test.loc[:,['Y']].values\n",
    "\n",
    "pca = PCA(n_components=6)  # specify num of features to keep\n",
    "pca.fit(X_train)\n",
    "ratio_500 = pca.explained_variance_ratio_\n",
    "X_train = pca.transform(X_train)\n",
    "X_test = pca.transform(X_test)"
   ]
  },
  {
   "cell_type": "code",
   "execution_count": null,
   "metadata": {},
   "outputs": [],
   "source": [
    "# knn for the 500 dataset, 6 features\n",
    "knn = neighbors.KNeighborsClassifier(n_neighbors=5)\n",
    "knn.fit(X_train, y_train)\n",
    "y_pred_knn_500_6 = knn.predict(X_test)\n",
    "y_pred_proba_knn_500_6 = knn.predict_proba(X_test)  # compute probabilities\n",
    "accuracy_knn_500_6 = accuracy_score(y_test, y_pred_knn_500_6)\n",
    "recall_knn_500_6 = recall_score(y_test, y_pred_knn_500_6)\n",
    "prec_knn_500_6 = precision_score(y_test, y_pred_knn_500_6)\n",
    "cm_knn_500_6 = confusion_matrix(y_test, y_pred_knn_500_6)\n",
    "auc_knn_500_6 = roc_auc_score(y_test, y_pred_proba_knn_500_6)  # AUC "
   ]
  },
  {
   "cell_type": "code",
   "execution_count": null,
   "metadata": {},
   "outputs": [],
   "source": [
    "# svm for the 500 dataset, 6 features\n",
    "svc = SVC(kernel='linear')\n",
    "svc.fit(X_train, y_train)\n",
    "y_pred_svm_500_6 = svc.predict(X_test)\n",
    "accuracy_svm_500_6 = accuracy_score(y_test, y_pred_svm_500_6)\n",
    "recall_svm_500_6 = recall_score(y_test, y_pred_svm_500_6)\n",
    "prec_svm_500_6 = precision_score(y_test, y_pred_svm_500_6)\n",
    "cm_svm_500_6 = confusion_matrix(y_test, y_pred_svm_500_6)"
   ]
  },
  {
   "cell_type": "code",
   "execution_count": null,
   "metadata": {},
   "outputs": [],
   "source": [
    "# random forest for the 500 dataset, 6 features\n",
    "rf = RandomForestClassifier(max_depth=2, random_state=0)\n",
    "rf.fit(X_train, y_train)\n",
    "y_pred_rf_500_6 = rf.predict(X_test)\n",
    "y_pred_proba_rf_500_6 = rf.predict_proba(X_test)  # compute probabilities\n",
    "accuracy_rf_500_6 = accuracy_score(y_test, y_pred_rf_500_6)\n",
    "recall_rf_500_6 = recall_score(y_test, y_pred_rf_500_6)\n",
    "prec_rf_500_6 = precision_score(y_test, y_pred_rf_500_6)\n",
    "cm_rf_500_6 = confusion_matrix(y_test, y_pred_rf_500_6)\n",
    "auc_rf_500_6 = roc_auc_score(y_test, y_pred_proba_rf_500_6)  # AUC "
   ]
  },
  {
   "cell_type": "code",
   "execution_count": null,
   "metadata": {},
   "outputs": [],
   "source": [
    "# logistic regr for the 500 dataset, 6 features\n",
    "lr = LogisticRegression()\n",
    "lr.fit(X_train, y_train)\n",
    "y_pred_lr_500_6 = lr.predict(X_test)\n",
    "y_pred_proba_lr_500_6 = lr.predict_proba(X_test)  # compute probabilities\n",
    "accuracy_lr_500_6 = accuracy_score(y_test, y_pred_lr_500_6)\n",
    "recall_lr_500_6 = recall_score(y_test, y_pred_lr_500_6)\n",
    "prec_lr_500_6 = precision_score(y_test, y_pred_lr_500_6)\n",
    "cm_lr_500_6 = confusion_matrix(y_test, y_pred_lr_500_6)\n",
    "auc_lr_500_6 = roc_auc_score(y_test, y_pred_proba_lr_500_6)  # AUC "
   ]
  },
  {
   "cell_type": "code",
   "execution_count": null,
   "metadata": {},
   "outputs": [],
   "source": [
    "# decision trees for the 500 dataset, 6 features\n",
    "dt = DecisionTreeClassifier()\n",
    "dt.fit(X_train, y_train)\n",
    "y_pred_dt_500_6 = dt.predict(X_test)\n",
    "y_pred_proba_dt_500_6 = dt.predict_proba(X_test)  # compute probabilities\n",
    "accuracy_dt_500_6 = accuracy_score(y_test, y_pred_dt_500_6)\n",
    "recall_dt_500_6 = recall_score(y_test, y_pred_dt_500_6)\n",
    "prec_dt_500_6 = precision_score(y_test, y_pred_dt_500_6)\n",
    "cm_dt_500_6 = confusion_matrix(y_test, y_pred_dt_500_6)\n",
    "auc_dt_500_6 = roc_auc_score(y_test, y_pred_proba_dt_500_6)  # AUC "
   ]
  },
  {
   "cell_type": "code",
   "execution_count": null,
   "metadata": {},
   "outputs": [],
   "source": [
    "# ~~~~~~~~~~~~~~~~~~~~~~~~~~~~~~~~~~~~~~~~~~~~~~~~~~~~~~~~~~~"
   ]
  },
  {
   "cell_type": "code",
   "execution_count": null,
   "metadata": {},
   "outputs": [],
   "source": [
    "# sample: 500 from the whole train dataset, n = 5 features\n",
    "data_class_0 = train[train['Y'] == 0][:500]  \n",
    "data_class_1 = train[train['Y'] == 1]\n",
    "df_500 = data_class_0.append(data_class_1)\n",
    "X_train = df_500.loc[:, features].values\n",
    "y_train = df_500.loc[:,['Y']].values\n",
    "X_test = test.loc[:, features].values\n",
    "y_test = test.loc[:,['Y']].values\n",
    "\n",
    "pca = PCA(n_components=5)  # specify num of features to keep\n",
    "pca.fit(X_train)\n",
    "ratio_500 = pca.explained_variance_ratio_\n",
    "X_train = pca.transform(X_train)\n",
    "X_test = pca.transform(X_test)"
   ]
  },
  {
   "cell_type": "code",
   "execution_count": null,
   "metadata": {},
   "outputs": [],
   "source": [
    "# knn for the 500 dataset, 5 features\n",
    "knn = neighbors.KNeighborsClassifier(n_neighbors=5)\n",
    "knn.fit(X_train, y_train)\n",
    "y_pred_knn_500_5 = knn.predict(X_test)\n",
    "y_pred_proba_knn_500_5 = knn.predict_proba(X_test)  # compute probabilities\n",
    "accuracy_knn_500_5 = accuracy_score(y_test, y_pred_knn_500_5)\n",
    "recall_knn_500_5 = recall_score(y_test, y_pred_knn_500_5)\n",
    "prec_knn_500_5 = precision_score(y_test, y_pred_knn_500_5)\n",
    "cm_knn_500_5 = confusion_matrix(y_test, y_pred_knn_500_5)\n",
    "auc_knn_500_5 = roc_auc_score(y_test, y_pred_proba_knn_500_5)  # AUC "
   ]
  },
  {
   "cell_type": "code",
   "execution_count": null,
   "metadata": {},
   "outputs": [],
   "source": [
    "# svm for the 500 dataset, 5 features\n",
    "svc = SVC(kernel='linear')\n",
    "svc.fit(X_train, y_train)\n",
    "y_pred_svm_500_5 = svc.predict(X_test)\n",
    "accuracy_svm_500_5 = accuracy_score(y_test, y_pred_svm_500_5)\n",
    "recall_svm_500_5 = recall_score(y_test, y_pred_svm_500_5)\n",
    "prec_svm_500_5 = precision_score(y_test, y_pred_svm_500_5)\n",
    "cm_svm_500_5 = confusion_matrix(y_test, y_pred_svm_500_5)"
   ]
  },
  {
   "cell_type": "code",
   "execution_count": null,
   "metadata": {},
   "outputs": [],
   "source": [
    "# random forest for the 500 dataset, 5 features\n",
    "rf = RandomForestClassifier(max_depth=2, random_state=0)\n",
    "rf.fit(X_train, y_train)\n",
    "y_pred_rf_500_5 = rf.predict(X_test)\n",
    "y_pred_proba_rf_500_5 = rf.predict_proba(X_test)  # compute probabilities\n",
    "accuracy_rf_500_5 = accuracy_score(y_test, y_pred_rf_500_5)\n",
    "recall_rf_500_5 = recall_score(y_test, y_pred_rf_500_5)\n",
    "prec_rf_500_5 = precision_score(y_test, y_pred_rf_500_5)\n",
    "cm_rf_500_5 = confusion_matrix(y_test, y_pred_rf_500_5)\n",
    "auc_rf_500_5 = roc_auc_score(y_test, y_pred_proba_rf_500_5)  # AUC "
   ]
  },
  {
   "cell_type": "code",
   "execution_count": null,
   "metadata": {},
   "outputs": [],
   "source": [
    "# logistic regr for the 500 dataset, 5 features\n",
    "lr = LogisticRegression()\n",
    "lr.fit(X_train, y_train)\n",
    "y_pred_lr_500_5 = lr.predict(X_test)\n",
    "y_pred_proba_lr_500_5 = lr.predict_proba(X_test)  # compute probabilities\n",
    "accuracy_lr_500_5 = accuracy_score(y_test, y_pred_lr_500_5)\n",
    "recall_lr_500_5 = recall_score(y_test, y_pred_lr_500_5)\n",
    "prec_lr_500_5 = precision_score(y_test, y_pred_lr_500_5)\n",
    "cm_lr_500_5 = confusion_matrix(y_test, y_pred_lr_500_5)\n",
    "auc_lr_500_5 = roc_auc_score(y_test, y_pred_proba_lr_500_5)  # AUC "
   ]
  },
  {
   "cell_type": "code",
   "execution_count": null,
   "metadata": {},
   "outputs": [],
   "source": [
    "# decision trees for the 500 dataset, 5 features\n",
    "dt = DecisionTreeClassifier()\n",
    "dt.fit(X_train, y_train)\n",
    "y_pred_dt_500_5 = dt.predict(X_test)\n",
    "y_pred_proba_dt_500_5 = dt.predict_proba(X_test)  # compute probabilities\n",
    "accuracy_dt_500_5 = accuracy_score(y_test, y_pred_dt_500_5)\n",
    "recall_dt_500_5 = recall_score(y_test, y_pred_dt_500_5)\n",
    "prec_dt_500_5 = precision_score(y_test, y_pred_dt_500_5)\n",
    "cm_dt_500_5 = confusion_matrix(y_test, y_pred_dt_500_5)\n",
    "auc_dt_500_5 = roc_auc_score(y_test, y_pred_proba_dt_500_5)  # AUC"
   ]
  },
  {
   "cell_type": "code",
   "execution_count": null,
   "metadata": {},
   "outputs": [],
   "source": [
    "# ~~~~~~~~~~~~~~~~~~~~~~~~~~~~~~~~~~~~~~~~~~~~~~~~~~~~~~~~~~~"
   ]
  },
  {
   "cell_type": "code",
   "execution_count": null,
   "metadata": {},
   "outputs": [],
   "source": [
    "# sample: 500 from the whole train dataset, n = 4 features\n",
    "data_class_0 = train[train['Y'] == 0][:500]  \n",
    "data_class_1 = train[train['Y'] == 1]\n",
    "df_500 = data_class_0.append(data_class_1)\n",
    "X_train = df_500.loc[:, features].values\n",
    "y_train = df_500.loc[:,['Y']].values\n",
    "X_test = test.loc[:, features].values\n",
    "y_test = test.loc[:,['Y']].values\n",
    "\n",
    "pca = PCA(n_components=4)  # specify num of features to keep\n",
    "pca.fit(X_train)\n",
    "ratio_500 = pca.explained_variance_ratio_\n",
    "X_train = pca.transform(X_train)\n",
    "X_test = pca.transform(X_test)"
   ]
  },
  {
   "cell_type": "code",
   "execution_count": null,
   "metadata": {},
   "outputs": [],
   "source": [
    "# knn for the 500 dataset, 4 features\n",
    "knn = neighbors.KNeighborsClassifier(n_neighbors=5)\n",
    "knn.fit(X_train, y_train)\n",
    "y_pred_knn_500_4 = knn.predict(X_test)\n",
    "y_pred_proba_knn_500_4 = knn.predict_proba(X_test)  # compute probabilities\n",
    "accuracy_knn_500_4 = accuracy_score(y_test, y_pred_knn_500_4)\n",
    "recall_knn_500_4 = recall_score(y_test, y_pred_knn_500_4)\n",
    "prec_knn_500_4 = precision_score(y_test, y_pred_knn_500_4)\n",
    "cm_knn_500_4 = confusion_matrix(y_test, y_pred_knn_500_4)\n",
    "auc_knn_500_4 = roc_auc_score(y_test, y_pred_proba_knn_500_4)  # AUC "
   ]
  },
  {
   "cell_type": "code",
   "execution_count": null,
   "metadata": {},
   "outputs": [],
   "source": [
    "# svm for the 500 dataset, 4 features\n",
    "svc = SVC(kernel='linear')\n",
    "svc.fit(X_train, y_train)\n",
    "y_pred_svm_500_4 = svc.predict(X_test)\n",
    "accuracy_svm_500_4 = accuracy_score(y_test, y_pred_svm_500_4)\n",
    "recall_svm_500_4 = recall_score(y_test, y_pred_svm_500_4)\n",
    "prec_svm_500_4 = precision_score(y_test, y_pred_svm_500_4)\n",
    "cm_svm_500_4 = confusion_matrix(y_test, y_pred_svm_500_4)"
   ]
  },
  {
   "cell_type": "code",
   "execution_count": null,
   "metadata": {},
   "outputs": [],
   "source": [
    "# random forest for the 500 dataset, 4 features\n",
    "rf = RandomForestClassifier(max_depth=2, random_state=0)\n",
    "rf.fit(X_train, y_train)\n",
    "y_pred_rf_500_4 = rf.predict(X_test)\n",
    "y_pred_proba_rf_500_4 = rf.predict_proba(X_test)  # compute probabilities\n",
    "accuracy_rf_500_4 = accuracy_score(y_test, y_pred_rf_500_4)\n",
    "recall_rf_500_4 = recall_score(y_test, y_pred_rf_500_4)\n",
    "prec_rf_500_4 = precision_score(y_test, y_pred_rf_500_4)\n",
    "cm_rf_500_4 = confusion_matrix(y_test, y_pred_rf_500_4)\n",
    "auc_rf_500_4 = roc_auc_score(y_test, y_pred_proba_rf_500_4)  # AUC "
   ]
  },
  {
   "cell_type": "code",
   "execution_count": null,
   "metadata": {},
   "outputs": [],
   "source": [
    "# logistic regr for the 500 dataset, 4 features\n",
    "lr = LogisticRegression()\n",
    "lr.fit(X_train, y_train)\n",
    "y_pred_lr_500_4 = lr.predict(X_test)\n",
    "y_pred_proba_lr_500_4 = lr.predict_proba(X_test)  # compute probabilities\n",
    "accuracy_lr_500_4 = accuracy_score(y_test, y_pred_lr_500_4)\n",
    "recall_lr_500_4 = recall_score(y_test, y_pred_lr_500_4)\n",
    "prec_lr_500_4 = precision_score(y_test, y_pred_lr_500_4)\n",
    "cm_lr_500_4 = confusion_matrix(y_test, y_pred_lr_500_4)\n",
    "auc_lr_500_4 = roc_auc_score(y_test, y_pred_proba_lr_500_4)  # AUC "
   ]
  },
  {
   "cell_type": "code",
   "execution_count": null,
   "metadata": {},
   "outputs": [],
   "source": [
    "# decision trees for the 500 dataset, 4 features\n",
    "dt = DecisionTreeClassifier()\n",
    "dt.fit(X_train, y_train)\n",
    "y_pred_dt_500_4 = dt.predict(X_test)\n",
    "y_pred_proba_dt_500_4 = dt.predict_proba(X_test)  # compute probabilities\n",
    "accuracy_dt_500_4 = accuracy_score(y_test, y_pred_dt_500_4)\n",
    "recall_dt_500_4 = recall_score(y_test, y_pred_dt_500_4)\n",
    "prec_dt_500_4 = precision_score(y_test, y_pred_dt_500_4)\n",
    "cm_dt_500_4 = confusion_matrix(y_test, y_pred_dt_500_4)\n",
    "auc_dt_500_4 = roc_auc_score(y_test, y_pred_proba_dt_500_4)  # AUC"
   ]
  },
  {
   "cell_type": "code",
   "execution_count": null,
   "metadata": {},
   "outputs": [],
   "source": [
    "# ~~~~~~~~~~~~~~~~~~~~~~~~~~~~~~~~~~~~~~~~~~~~~~~~~~~~~~~~~~~"
   ]
  },
  {
   "cell_type": "code",
   "execution_count": null,
   "metadata": {},
   "outputs": [],
   "source": [
    "# sample: 500 from the whole train dataset, n = 3 features\n",
    "data_class_0 = train[train['Y'] == 0][:500]  \n",
    "data_class_1 = train[train['Y'] == 1]\n",
    "df_500 = data_class_0.append(data_class_1)\n",
    "X_train = df_500.loc[:, features].values\n",
    "y_train = df_500.loc[:,['Y']].values\n",
    "X_test = test.loc[:, features].values\n",
    "y_test = test.loc[:,['Y']].values\n",
    "\n",
    "pca = PCA(n_components=3)  # specify num of features to keep\n",
    "pca.fit(X_train)\n",
    "ratio_500 = pca.explained_variance_ratio_\n",
    "X_train = pca.transform(X_train)\n",
    "X_test = pca.transform(X_test)"
   ]
  },
  {
   "cell_type": "code",
   "execution_count": null,
   "metadata": {},
   "outputs": [],
   "source": [
    "# knn for the 500 dataset, 3 features\n",
    "knn = neighbors.KNeighborsClassifier(n_neighbors=5)\n",
    "knn.fit(X_train, y_train)\n",
    "y_pred_knn_500_3 = knn.predict(X_test)\n",
    "y_pred_proba_knn_500_3 = knn.predict_proba(X_test)  # compute probabilities\n",
    "accuracy_knn_500_3 = accuracy_score(y_test, y_pred_knn_500_3)\n",
    "recall_knn_500_3 = recall_score(y_test, y_pred_knn_500_3)\n",
    "prec_knn_500_3 = precision_score(y_test, y_pred_knn_500_3)\n",
    "cm_knn_500_3 = confusion_matrix(y_test, y_pred_knn_500_3)\n",
    "auc_knn_500_3 = roc_auc_score(y_test, y_pred_proba_knn_500_3)  # AUC "
   ]
  },
  {
   "cell_type": "code",
   "execution_count": null,
   "metadata": {},
   "outputs": [],
   "source": [
    "# svm for the 500 dataset, 3 features\n",
    "svc = SVC(kernel='linear')\n",
    "svc.fit(X_train, y_train)\n",
    "y_pred_svm_500_3 = svc.predict(X_test)\n",
    "accuracy_svm_500_3 = accuracy_score(y_test, y_pred_svm_500_3)\n",
    "recall_svm_500_3 = recall_score(y_test, y_pred_svm_500_3)\n",
    "prec_svm_500_3 = precision_score(y_test, y_pred_svm_500_3)\n",
    "cm_svm_500_3 = confusion_matrix(y_test, y_pred_svm_500_3)"
   ]
  },
  {
   "cell_type": "code",
   "execution_count": null,
   "metadata": {},
   "outputs": [],
   "source": [
    "# random forest for the 500 dataset, 3 features\n",
    "rf = RandomForestClassifier(max_depth=2, random_state=0)\n",
    "rf.fit(X_train, y_train)\n",
    "y_pred_rf_500_3 = rf.predict(X_test)\n",
    "y_pred_proba_rf_500_3 = rf.predict_proba(X_test)  # compute probabilities\n",
    "accuracy_rf_500_3 = accuracy_score(y_test, y_pred_rf_500_3)\n",
    "recall_rf_500_3 = recall_score(y_test, y_pred_rf_500_3)\n",
    "prec_rf_500_3 = precision_score(y_test, y_pred_rf_500_3)\n",
    "cm_rf_500_3 = confusion_matrix(y_test, y_pred_rf_500_3)\n",
    "auc_rf_500_3 = roc_auc_score(y_test, y_pred_proba_rf_500_3)  # AUC "
   ]
  },
  {
   "cell_type": "code",
   "execution_count": null,
   "metadata": {},
   "outputs": [],
   "source": [
    "# logistic regr for the 500 dataset, 3 features\n",
    "lr = LogisticRegression()\n",
    "lr.fit(X_train, y_train)\n",
    "y_pred_lr_500_3 = lr.predict(X_test)\n",
    "y_pred_proba_lr_500_3 = lr.predict_proba(X_test)  # compute probabilities\n",
    "accuracy_lr_500_3 = accuracy_score(y_test, y_pred_lr_500_3)\n",
    "recall_lr_500_3 = recall_score(y_test, y_pred_lr_500_3)\n",
    "prec_lr_500_3 = precision_score(y_test, y_pred_lr_500_3)\n",
    "cm_lr_500_3 = confusion_matrix(y_test, y_pred_lr_500_3)\n",
    "auc_lr_500_3 = roc_auc_score(y_test, y_pred_proba_lr_500_3)  # AUC "
   ]
  },
  {
   "cell_type": "code",
   "execution_count": null,
   "metadata": {},
   "outputs": [],
   "source": [
    "# decision trees for the 500 dataset, 3 features\n",
    "dt = DecisionTreeClassifier()\n",
    "dt.fit(X_train, y_train)\n",
    "y_pred_dt_500_3 = dt.predict(X_test)\n",
    "y_pred_proba_dt_500_3 = dt.predict_proba(X_test)  # compute probabilities\n",
    "accuracy_dt_500_3 = accuracy_score(y_test, y_pred_dt_500_3)\n",
    "recall_dt_500_3 = recall_score(y_test, y_pred_dt_500_3)\n",
    "prec_dt_500_3 = precision_score(y_test, y_pred_dt_500_3)\n",
    "cm_dt_500_3 = confusion_matrix(y_test, y_pred_dt_500_3)\n",
    "auc_dt_500_3 = roc_auc_score(y_test, y_pred_proba_dt_500_3)  # AUC"
   ]
  },
  {
   "cell_type": "code",
   "execution_count": null,
   "metadata": {},
   "outputs": [],
   "source": [
    "# ~~~~~~~~~~~~~~~~~~~~~~~~~~~~~~~~~~~~~~~~~~~~~~~~~~~~~~~~~~~"
   ]
  },
  {
   "cell_type": "code",
   "execution_count": null,
   "metadata": {},
   "outputs": [],
   "source": [
    "# sample: 500 from the whole train dataset, n = 2 features\n",
    "data_class_0 = train[train['Y'] == 0][:500]  \n",
    "data_class_1 = train[train['Y'] == 1]\n",
    "df_500 = data_class_0.append(data_class_1)\n",
    "X_train = df_500.loc[:, features].values\n",
    "y_train = df_500.loc[:,['Y']].values\n",
    "X_test = test.loc[:, features].values\n",
    "y_test = test.loc[:,['Y']].values\n",
    "\n",
    "pca = PCA(n_components=2)  # specify num of features to keep\n",
    "pca.fit(X_train)\n",
    "ratio_500 = pca.explained_variance_ratio_\n",
    "X_train = pca.transform(X_train)\n",
    "X_test = pca.transform(X_test)"
   ]
  },
  {
   "cell_type": "code",
   "execution_count": null,
   "metadata": {},
   "outputs": [],
   "source": [
    "# knn for the 500 dataset, 2 features\n",
    "knn = neighbors.KNeighborsClassifier(n_neighbors=5)\n",
    "knn.fit(X_train, y_train)\n",
    "y_pred_knn_500_2 = knn.predict(X_test)\n",
    "y_pred_proba_knn_500_2 = knn.predict_proba(X_test)  # compute probabilities\n",
    "accuracy_knn_500_2 = accuracy_score(y_test, y_pred_knn_500_2)\n",
    "recall_knn_500_2 = recall_score(y_test, y_pred_knn_500_2)\n",
    "prec_knn_500_2 = precision_score(y_test, y_pred_knn_500_2)\n",
    "cm_knn_500_2 = confusion_matrix(y_test, y_pred_knn_500_2)\n",
    "auc_knn_500_2 = roc_auc_score(y_test, y_pred_proba_knn_500_2)  # AUC "
   ]
  },
  {
   "cell_type": "code",
   "execution_count": null,
   "metadata": {},
   "outputs": [],
   "source": [
    "# svm for the 500 dataset, 2 features\n",
    "svc = SVC(kernel='linear')\n",
    "svc.fit(X_train, y_train)\n",
    "y_pred_svm_500_2 = svc.predict(X_test)\n",
    "accuracy_svm_500_2 = accuracy_score(y_test, y_pred_svm_500_2)\n",
    "recall_svm_500_2 = recall_score(y_test, y_pred_svm_500_2)\n",
    "prec_svm_500_2 = precision_score(y_test, y_pred_svm_500_2)\n",
    "cm_svm_500_2 = confusion_matrix(y_test, y_pred_svm_500_2)"
   ]
  },
  {
   "cell_type": "code",
   "execution_count": null,
   "metadata": {},
   "outputs": [],
   "source": [
    "# random forest for the 500 dataset, 2 features\n",
    "rf = RandomForestClassifier(max_depth=2, random_state=0)\n",
    "rf.fit(X_train, y_train)\n",
    "y_pred_rf_500_2 = rf.predict(X_test)\n",
    "y_pred_proba_rf_500_2 = rf.predict_proba(X_test)  # compute probabilities\n",
    "accuracy_rf_500_2 = accuracy_score(y_test, y_pred_rf_500_2)\n",
    "recall_rf_500_2 = recall_score(y_test, y_pred_rf_500_2)\n",
    "prec_rf_500_2 = precision_score(y_test, y_pred_rf_500_2)\n",
    "cm_rf_500_2 = confusion_matrix(y_test, y_pred_rf_500_2)\n",
    "auc_rf_500_2 = roc_auc_score(y_test, y_pred_proba_rf_500_2)  # AUC "
   ]
  },
  {
   "cell_type": "code",
   "execution_count": null,
   "metadata": {},
   "outputs": [],
   "source": [
    "# logistic regr for the 500 dataset, 2 features\n",
    "lr = LogisticRegression()\n",
    "lr.fit(X_train, y_train)\n",
    "y_pred_lr_500_2 = lr.predict(X_test)\n",
    "y_pred_proba_lr_500_2 = lr.predict_proba(X_test)  # compute probabilities\n",
    "accuracy_lr_500_2 = accuracy_score(y_test, y_pred_lr_500_2)\n",
    "recall_lr_500_2 = recall_score(y_test, y_pred_lr_500_2)\n",
    "prec_lr_500_2 = precision_score(y_test, y_pred_lr_500_2)\n",
    "cm_lr_500_2 = confusion_matrix(y_test, y_pred_lr_500_2)\n",
    "auc_lr_500_2 = roc_auc_score(y_test, y_pred_proba_lr_500_2)  # AUC "
   ]
  },
  {
   "cell_type": "code",
   "execution_count": null,
   "metadata": {},
   "outputs": [],
   "source": [
    "# decision trees for the 500 dataset, 2 features\n",
    "dt = DecisionTreeClassifier()\n",
    "dt.fit(X_train, y_train)\n",
    "y_pred_dt_500_2 = dt.predict(X_test)\n",
    "y_pred_proba_dt_500_2 = dt.predict_proba(X_test)  # compute probabilities\n",
    "accuracy_dt_500_2 = accuracy_score(y_test, y_pred_dt_500_2)\n",
    "recall_dt_500_2 = recall_score(y_test, y_pred_dt_500_2)\n",
    "prec_dt_500_2 = precision_score(y_test, y_pred_dt_500_2)\n",
    "cm_dt_500_2 = confusion_matrix(y_test, y_pred_dt_500_2)\n",
    "auc_dt_500_2 = roc_auc_score(y_test, y_pred_proba_dt_500_2)  # AUC"
   ]
  }
 ],
 "metadata": {
  "kernelspec": {
   "display_name": "Python 3",
   "language": "python",
   "name": "python3"
  },
  "language_info": {
   "codemirror_mode": {
    "name": "ipython",
    "version": 3
   },
   "file_extension": ".py",
   "mimetype": "text/x-python",
   "name": "python",
   "nbconvert_exporter": "python",
   "pygments_lexer": "ipython3",
   "version": "3.6.4"
  }
 },
 "nbformat": 4,
 "nbformat_minor": 2
}
